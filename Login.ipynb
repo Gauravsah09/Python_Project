{
 "cells": [
  {
   "cell_type": "code",
   "execution_count": 4,
   "metadata": {},
   "outputs": [
    {
     "name": "stdout",
     "output_type": "stream",
     "text": [
      "Username : Gaurav\n",
      "Passowrd : Hello111\n",
      "Login Type: Admi\n",
      "Login Successfull!! Welcome to homepage\n",
      "16/06/2019|15:39:31\n"
     ]
    }
   ],
   "source": [
    "#HR Login\n",
    "import time\n",
    "\n",
    "Username = input(\"Username : \")\n",
    "if Username == \"Gaurav\":\n",
    "    Password = input(\"Passowrd : \")\n",
    "    LgTp = input(\"Login Type: \")\n",
    "    if Password == \"Hello111\" and LgTp == \"Admi\":\n",
    "        print(\"Login Successfull!! Welcome to homepage\")\n",
    "        t = time.strftime(\"%d/%m/%Y|%H:%M:%S\")\n",
    "        print (t)\n",
    "    else:\n",
    "        print(\"Authorization failed!!\")    "
   ]
  },
  {
   "cell_type": "code",
   "execution_count": 1,
   "metadata": {},
   "outputs": [
    {
     "name": "stdout",
     "output_type": "stream",
     "text": [
      "Username : Gaurav\n",
      "Passowrd : Hello111\n",
      "Login Type: Admi\n",
      "Login Successfull!! Welcome to homepage\n",
      "16/06/2019|15:47:06\n",
      "Enter Employee name: Grv\n",
      "Enter Employee ID: 123\n",
      "Enter Employee's Salary: 400000\n",
      "Enter Employee's Experience: 3\n",
      "Enter Employee's Rating: 4\n",
      "460000.0\n"
     ]
    }
   ],
   "source": [
    "import time\n",
    "\n",
    "#HR Login\n",
    "\n",
    "Username = input(\"Username : \")\n",
    "if Username == \"Gaurav\":\n",
    "    Password = input(\"Passowrd : \")\n",
    "    LgTp = input(\"Login Type: \")\n",
    "    if Password == \"Hello111\" and LgTp == \"Admi\":\n",
    "        print(\"Login Successfull!! Welcome to homepage\")\n",
    "        t = time.strftime(\"%d/%m/%Y|%H:%M:%S\")\n",
    "        print (t)\n",
    "      \n",
    "        #Increment calculation:\n",
    "\n",
    "        EmpName = input(\"Enter Employee name: \")\n",
    "        Eid = input(\"Enter Employee ID: \")\n",
    "        Esal = int(input(\"Enter Employee's Salary: \"))\n",
    "        Exp = int(input(\"Enter Employee's Experience: \"))\n",
    "        Rating = float(input(\"Enter Employee's Rating: \"))\n",
    "\n",
    "        NewSal = 0\n",
    "        Incr = 0\n",
    "\n",
    "        if Exp >= 1 and Rating >= 4:\n",
    "            Incr = Esal*0.15\n",
    "            NewSal = Esal+Incr\n",
    "            print(NewSal)\n",
    "\n",
    "        elif Exp >= 1 and Rating >= 3 and Rating <= 3.5:\n",
    "            Incr = Esal*0.10\n",
    "            NewSal = Esal+Incr\n",
    "            print(NewSal)\n",
    "        else:\n",
    "            NewSal = \"No Increment\"\n",
    "\n",
    "        f = open(\"C:/Users/t_vijag/Desktop/Filez.txt\",\"+a\")\n",
    "        f.write(t)\n",
    "        f.write(\" : \")\n",
    "        f.write(EmpName)\n",
    "        f.write(\" : \")\n",
    "        f.write(str(Eid))\n",
    "        f.write(\" : \")\n",
    "        f.write(str(NewSal))\n",
    "        f.close()\n",
    "\n",
    "    else:\n",
    "        print(\"Authorization failed!!\") "
   ]
  },
  {
   "cell_type": "code",
   "execution_count": null,
   "metadata": {},
   "outputs": [],
   "source": []
  },
  {
   "cell_type": "code",
   "execution_count": null,
   "metadata": {},
   "outputs": [],
   "source": []
  }
 ],
 "metadata": {
  "kernelspec": {
   "display_name": "Python 3",
   "language": "python",
   "name": "python3"
  },
  "language_info": {
   "codemirror_mode": {
    "name": "ipython",
    "version": 3
   },
   "file_extension": ".py",
   "mimetype": "text/x-python",
   "name": "python",
   "nbconvert_exporter": "python",
   "pygments_lexer": "ipython3",
   "version": "3.7.3"
  }
 },
 "nbformat": 4,
 "nbformat_minor": 2
}
